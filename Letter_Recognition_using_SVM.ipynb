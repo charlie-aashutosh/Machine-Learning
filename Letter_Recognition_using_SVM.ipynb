{
  "nbformat": 4,
  "nbformat_minor": 0,
  "metadata": {
    "kernelspec": {
      "display_name": "Python [default]",
      "language": "python",
      "name": "python3"
    },
    "language_info": {
      "codemirror_mode": {
        "name": "ipython",
        "version": 3
      },
      "file_extension": ".py",
      "mimetype": "text/x-python",
      "name": "python",
      "nbconvert_exporter": "python",
      "pygments_lexer": "ipython3",
      "version": "3.5.4"
    },
    "colab": {
      "name": "Letter_Recognition_using_SVM.ipynb",
      "provenance": [],
      "include_colab_link": true
    }
  },
  "cells": [
    {
      "cell_type": "markdown",
      "metadata": {
        "id": "view-in-github",
        "colab_type": "text"
      },
      "source": [
        "<a href=\"https://colab.research.google.com/github/charlie-aashutosh/charlie/blob/master/Letter_Recognition_using_SVM.ipynb\" target=\"_parent\"><img src=\"https://colab.research.google.com/assets/colab-badge.svg\" alt=\"Open In Colab\"/></a>"
      ]
    },
    {
      "cell_type": "markdown",
      "metadata": {
        "id": "HTse0xgkKyQi",
        "colab_type": "text"
      },
      "source": [
        "# Letter Recognition Using SVM\n",
        "\n"
      ]
    },
    {
      "cell_type": "code",
      "metadata": {
        "id": "cyzQ-TEpKyQl",
        "colab_type": "code",
        "colab": {}
      },
      "source": [
        "# libraries\n",
        "import pandas as pd\n",
        "import numpy as np\n",
        "from sklearn.svm import SVC\n",
        "from sklearn.model_selection import train_test_split\n",
        "from sklearn import metrics\n",
        "from sklearn.metrics import confusion_matrix\n",
        "from sklearn.model_selection import KFold\n",
        "from sklearn.model_selection import cross_val_score\n",
        "from sklearn.model_selection import GridSearchCV\n",
        "import matplotlib.pyplot as plt\n",
        "import seaborn as sns\n",
        "from sklearn.preprocessing import scale\n"
      ],
      "execution_count": 2,
      "outputs": []
    },
    {
      "cell_type": "code",
      "metadata": {
        "id": "tmzixv9bLIEd",
        "colab_type": "code",
        "colab": {
          "resources": {
            "http://localhost:8080/nbextensions/google.colab/files.js": {
              "data": "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",
              "ok": true,
              "headers": [
                [
                  "content-type",
                  "application/javascript"
                ]
              ],
              "status": 200,
              "status_text": ""
            }
          },
          "base_uri": "https://localhost:8080/",
          "height": 73
        },
        "outputId": "0c86c616-1924-4a85-c990-9b1fea9ad39f"
      },
      "source": [
        "from google.colab import files\n",
        "files=files.upload()"
      ],
      "execution_count": 3,
      "outputs": [
        {
          "output_type": "display_data",
          "data": {
            "text/html": [
              "\n",
              "     <input type=\"file\" id=\"files-baf8c965-55d3-440f-8338-1517140ab45c\" name=\"files[]\" multiple disabled\n",
              "        style=\"border:none\" />\n",
              "     <output id=\"result-baf8c965-55d3-440f-8338-1517140ab45c\">\n",
              "      Upload widget is only available when the cell has been executed in the\n",
              "      current browser session. Please rerun this cell to enable.\n",
              "      </output>\n",
              "      <script src=\"/nbextensions/google.colab/files.js\"></script> "
            ],
            "text/plain": [
              "<IPython.core.display.HTML object>"
            ]
          },
          "metadata": {
            "tags": []
          }
        },
        {
          "output_type": "stream",
          "text": [
            "Saving letter-recognition.csv to letter-recognition.csv\n"
          ],
          "name": "stdout"
        }
      ]
    },
    {
      "cell_type": "code",
      "metadata": {
        "id": "Doc-lk1mLUxS",
        "colab_type": "code",
        "colab": {}
      },
      "source": [
        "letters=pd.read_csv(\"letter-recognition.csv\")"
      ],
      "execution_count": 4,
      "outputs": []
    },
    {
      "cell_type": "code",
      "metadata": {
        "scrolled": true,
        "id": "qL0pDY29KyQt",
        "colab_type": "code",
        "colab": {
          "base_uri": "https://localhost:8080/",
          "height": 649
        },
        "outputId": "a91adcaf-0de4-4b51-920e-8a0c08b6ee8d"
      },
      "source": [
        "# about the dataset\n",
        "\n",
        "# dimensions\n",
        "print(\"Dimensions: \", letters.shape, \"\\n\")\n",
        "\n",
        "# data types\n",
        "print(letters.info())\n",
        "\n",
        "# head\n",
        "letters.head()"
      ],
      "execution_count": 5,
      "outputs": [
        {
          "output_type": "stream",
          "text": [
            "Dimensions:  (20000, 17) \n",
            "\n",
            "<class 'pandas.core.frame.DataFrame'>\n",
            "RangeIndex: 20000 entries, 0 to 19999\n",
            "Data columns (total 17 columns):\n",
            " #   Column  Non-Null Count  Dtype \n",
            "---  ------  --------------  ----- \n",
            " 0   letter  20000 non-null  object\n",
            " 1   xbox    20000 non-null  int64 \n",
            " 2   ybox    20000 non-null  int64 \n",
            " 3   width   20000 non-null  int64 \n",
            " 4   height  20000 non-null  int64 \n",
            " 5   onpix   20000 non-null  int64 \n",
            " 6   xbar    20000 non-null  int64 \n",
            " 7   ybar    20000 non-null  int64 \n",
            " 8   x2bar   20000 non-null  int64 \n",
            " 9   y2bar   20000 non-null  int64 \n",
            " 10  xybar   20000 non-null  int64 \n",
            " 11  x2ybar  20000 non-null  int64 \n",
            " 12  xy2bar  20000 non-null  int64 \n",
            " 13  xedge   20000 non-null  int64 \n",
            " 14  xedgey  20000 non-null  int64 \n",
            " 15  yedge   20000 non-null  int64 \n",
            " 16  yedgex  20000 non-null  int64 \n",
            "dtypes: int64(16), object(1)\n",
            "memory usage: 2.6+ MB\n",
            "None\n"
          ],
          "name": "stdout"
        },
        {
          "output_type": "execute_result",
          "data": {
            "text/html": [
              "<div>\n",
              "<style scoped>\n",
              "    .dataframe tbody tr th:only-of-type {\n",
              "        vertical-align: middle;\n",
              "    }\n",
              "\n",
              "    .dataframe tbody tr th {\n",
              "        vertical-align: top;\n",
              "    }\n",
              "\n",
              "    .dataframe thead th {\n",
              "        text-align: right;\n",
              "    }\n",
              "</style>\n",
              "<table border=\"1\" class=\"dataframe\">\n",
              "  <thead>\n",
              "    <tr style=\"text-align: right;\">\n",
              "      <th></th>\n",
              "      <th>letter</th>\n",
              "      <th>xbox</th>\n",
              "      <th>ybox</th>\n",
              "      <th>width</th>\n",
              "      <th>height</th>\n",
              "      <th>onpix</th>\n",
              "      <th>xbar</th>\n",
              "      <th>ybar</th>\n",
              "      <th>x2bar</th>\n",
              "      <th>y2bar</th>\n",
              "      <th>xybar</th>\n",
              "      <th>x2ybar</th>\n",
              "      <th>xy2bar</th>\n",
              "      <th>xedge</th>\n",
              "      <th>xedgey</th>\n",
              "      <th>yedge</th>\n",
              "      <th>yedgex</th>\n",
              "    </tr>\n",
              "  </thead>\n",
              "  <tbody>\n",
              "    <tr>\n",
              "      <th>0</th>\n",
              "      <td>T</td>\n",
              "      <td>2</td>\n",
              "      <td>8</td>\n",
              "      <td>3</td>\n",
              "      <td>5</td>\n",
              "      <td>1</td>\n",
              "      <td>8</td>\n",
              "      <td>13</td>\n",
              "      <td>0</td>\n",
              "      <td>6</td>\n",
              "      <td>6</td>\n",
              "      <td>10</td>\n",
              "      <td>8</td>\n",
              "      <td>0</td>\n",
              "      <td>8</td>\n",
              "      <td>0</td>\n",
              "      <td>8</td>\n",
              "    </tr>\n",
              "    <tr>\n",
              "      <th>1</th>\n",
              "      <td>I</td>\n",
              "      <td>5</td>\n",
              "      <td>12</td>\n",
              "      <td>3</td>\n",
              "      <td>7</td>\n",
              "      <td>2</td>\n",
              "      <td>10</td>\n",
              "      <td>5</td>\n",
              "      <td>5</td>\n",
              "      <td>4</td>\n",
              "      <td>13</td>\n",
              "      <td>3</td>\n",
              "      <td>9</td>\n",
              "      <td>2</td>\n",
              "      <td>8</td>\n",
              "      <td>4</td>\n",
              "      <td>10</td>\n",
              "    </tr>\n",
              "    <tr>\n",
              "      <th>2</th>\n",
              "      <td>D</td>\n",
              "      <td>4</td>\n",
              "      <td>11</td>\n",
              "      <td>6</td>\n",
              "      <td>8</td>\n",
              "      <td>6</td>\n",
              "      <td>10</td>\n",
              "      <td>6</td>\n",
              "      <td>2</td>\n",
              "      <td>6</td>\n",
              "      <td>10</td>\n",
              "      <td>3</td>\n",
              "      <td>7</td>\n",
              "      <td>3</td>\n",
              "      <td>7</td>\n",
              "      <td>3</td>\n",
              "      <td>9</td>\n",
              "    </tr>\n",
              "    <tr>\n",
              "      <th>3</th>\n",
              "      <td>N</td>\n",
              "      <td>7</td>\n",
              "      <td>11</td>\n",
              "      <td>6</td>\n",
              "      <td>6</td>\n",
              "      <td>3</td>\n",
              "      <td>5</td>\n",
              "      <td>9</td>\n",
              "      <td>4</td>\n",
              "      <td>6</td>\n",
              "      <td>4</td>\n",
              "      <td>4</td>\n",
              "      <td>10</td>\n",
              "      <td>6</td>\n",
              "      <td>10</td>\n",
              "      <td>2</td>\n",
              "      <td>8</td>\n",
              "    </tr>\n",
              "    <tr>\n",
              "      <th>4</th>\n",
              "      <td>G</td>\n",
              "      <td>2</td>\n",
              "      <td>1</td>\n",
              "      <td>3</td>\n",
              "      <td>1</td>\n",
              "      <td>1</td>\n",
              "      <td>8</td>\n",
              "      <td>6</td>\n",
              "      <td>6</td>\n",
              "      <td>6</td>\n",
              "      <td>6</td>\n",
              "      <td>5</td>\n",
              "      <td>9</td>\n",
              "      <td>1</td>\n",
              "      <td>7</td>\n",
              "      <td>5</td>\n",
              "      <td>10</td>\n",
              "    </tr>\n",
              "  </tbody>\n",
              "</table>\n",
              "</div>"
            ],
            "text/plain": [
              "  letter  xbox   ybox   width   height  ...  xy2bar  xedge   xedgey  yedge   yedgex\n",
              "0      T      2      8       3       5  ...       8       0       8       0       8\n",
              "1      I      5     12       3       7  ...       9       2       8       4      10\n",
              "2      D      4     11       6       8  ...       7       3       7       3       9\n",
              "3      N      7     11       6       6  ...      10       6      10       2       8\n",
              "4      G      2      1       3       1  ...       9       1       7       5      10\n",
              "\n",
              "[5 rows x 17 columns]"
            ]
          },
          "metadata": {
            "tags": []
          },
          "execution_count": 5
        }
      ]
    },
    {
      "cell_type": "code",
      "metadata": {
        "id": "MBsKZk3IKyQ1",
        "colab_type": "code",
        "colab": {
          "base_uri": "https://localhost:8080/",
          "height": 84
        },
        "outputId": "6b132380-f144-47a4-834a-d971423c8d1a"
      },
      "source": [
        "# a quirky bug: the column names have a space, e.g. 'xbox ', which throws and error when indexed\n",
        "print(letters.columns)\n"
      ],
      "execution_count": 6,
      "outputs": [
        {
          "output_type": "stream",
          "text": [
            "Index(['letter', 'xbox ', 'ybox ', 'width ', 'height', 'onpix ', 'xbar ',\n",
            "       'ybar ', 'x2bar', 'y2bar ', 'xybar ', 'x2ybar', 'xy2bar', 'xedge ',\n",
            "       'xedgey', 'yedge ', 'yedgex'],\n",
            "      dtype='object')\n"
          ],
          "name": "stdout"
        }
      ]
    },
    {
      "cell_type": "code",
      "metadata": {
        "id": "XPxQNaZ1KyQ_",
        "colab_type": "code",
        "colab": {
          "base_uri": "https://localhost:8080/",
          "height": 84
        },
        "outputId": "644f8604-be1d-42f6-858d-771e6c328522"
      },
      "source": [
        "# let's 'reindex' the column names\n",
        "letters.columns = ['letter', 'xbox', 'ybox', 'width', 'height', 'onpix', 'xbar',\n",
        "       'ybar', 'x2bar', 'y2bar', 'xybar', 'x2ybar', 'xy2bar', 'xedge',\n",
        "       'xedgey', 'yedge', 'yedgex']\n",
        "print(letters.columns)"
      ],
      "execution_count": 7,
      "outputs": [
        {
          "output_type": "stream",
          "text": [
            "Index(['letter', 'xbox', 'ybox', 'width', 'height', 'onpix', 'xbar', 'ybar',\n",
            "       'x2bar', 'y2bar', 'xybar', 'x2ybar', 'xy2bar', 'xedge', 'xedgey',\n",
            "       'yedge', 'yedgex'],\n",
            "      dtype='object')\n"
          ],
          "name": "stdout"
        }
      ]
    },
    {
      "cell_type": "code",
      "metadata": {
        "id": "BdqJkqJUKyRG",
        "colab_type": "code",
        "colab": {
          "base_uri": "https://localhost:8080/",
          "height": 34
        },
        "outputId": "2e401b90-1a8f-4510-a01a-99fdfdc8daea"
      },
      "source": [
        "order = list(np.sort(letters['letter'].unique()))\n",
        "print(order)\n"
      ],
      "execution_count": 8,
      "outputs": [
        {
          "output_type": "stream",
          "text": [
            "['A', 'B', 'C', 'D', 'E', 'F', 'G', 'H', 'I', 'J', 'K', 'L', 'M', 'N', 'O', 'P', 'Q', 'R', 'S', 'T', 'U', 'V', 'W', 'X', 'Y', 'Z']\n"
          ],
          "name": "stdout"
        }
      ]
    },
    {
      "cell_type": "code",
      "metadata": {
        "id": "PGO3jaGSKyRN",
        "colab_type": "code",
        "colab": {
          "base_uri": "https://localhost:8080/",
          "height": 514
        },
        "outputId": "4b523d7f-ea5a-4173-b146-8242fb4d4ee2"
      },
      "source": [
        "# basic plots: How do various attributes vary with the letters\n",
        "\n",
        "plt.figure(figsize=(16, 8))\n",
        "sns.barplot(x='letter', y='xbox', \n",
        "            data=letters, \n",
        "            order=order)"
      ],
      "execution_count": 9,
      "outputs": [
        {
          "output_type": "execute_result",
          "data": {
            "text/plain": [
              "<matplotlib.axes._subplots.AxesSubplot at 0x7f8ad5419b38>"
            ]
          },
          "metadata": {
            "tags": []
          },
          "execution_count": 9
        },
        {
          "output_type": "display_data",
          "data": {
            "image/png": "[encoded data removed]",
            "text/plain": [
              "<Figure size 1152x576 with 1 Axes>"
            ]
          },
          "metadata": {
            "tags": [],
            "needs_background": "light"
          }
        }
      ]
    },
    {
      "cell_type": "code",
      "metadata": {
        "id": "KlMrU5hlKyRT",
        "colab_type": "code",
        "colab": {
          "base_uri": "https://localhost:8080/",
          "height": 225
        },
        "outputId": "8db90af4-1b5c-44d3-8570-9e61badfd1c3"
      },
      "source": [
        "letter_means = letters.groupby('letter').mean()\n",
        "letter_means.head()"
      ],
      "execution_count": 10,
      "outputs": [
        {
          "output_type": "execute_result",
          "data": {
            "text/html": [
              "<div>\n",
              "<style scoped>\n",
              "    .dataframe tbody tr th:only-of-type {\n",
              "        vertical-align: middle;\n",
              "    }\n",
              "\n",
              "    .dataframe tbody tr th {\n",
              "        vertical-align: top;\n",
              "    }\n",
              "\n",
              "    .dataframe thead th {\n",
              "        text-align: right;\n",
              "    }\n",
              "</style>\n",
              "<table border=\"1\" class=\"dataframe\">\n",
              "  <thead>\n",
              "    <tr style=\"text-align: right;\">\n",
              "      <th></th>\n",
              "      <th>xbox</th>\n",
              "      <th>ybox</th>\n",
              "      <th>width</th>\n",
              "      <th>height</th>\n",
              "      <th>onpix</th>\n",
              "      <th>xbar</th>\n",
              "      <th>ybar</th>\n",
              "      <th>x2bar</th>\n",
              "      <th>y2bar</th>\n",
              "      <th>xybar</th>\n",
              "      <th>x2ybar</th>\n",
              "      <th>xy2bar</th>\n",
              "      <th>xedge</th>\n",
              "      <th>xedgey</th>\n",
              "      <th>yedge</th>\n",
              "      <th>yedgex</th>\n",
              "    </tr>\n",
              "    <tr>\n",
              "      <th>letter</th>\n",
              "      <th></th>\n",
              "      <th></th>\n",
              "      <th></th>\n",
              "      <th></th>\n",
              "      <th></th>\n",
              "      <th></th>\n",
              "      <th></th>\n",
              "      <th></th>\n",
              "      <th></th>\n",
              "      <th></th>\n",
              "      <th></th>\n",
              "      <th></th>\n",
              "      <th></th>\n",
              "      <th></th>\n",
              "      <th></th>\n",
              "      <th></th>\n",
              "    </tr>\n",
              "  </thead>\n",
              "  <tbody>\n",
              "    <tr>\n",
              "      <th>A</th>\n",
              "      <td>3.337136</td>\n",
              "      <td>6.975919</td>\n",
              "      <td>5.128010</td>\n",
              "      <td>5.178707</td>\n",
              "      <td>2.991128</td>\n",
              "      <td>8.851711</td>\n",
              "      <td>3.631179</td>\n",
              "      <td>2.755387</td>\n",
              "      <td>2.043093</td>\n",
              "      <td>7.802281</td>\n",
              "      <td>2.338403</td>\n",
              "      <td>8.465146</td>\n",
              "      <td>2.771863</td>\n",
              "      <td>6.321926</td>\n",
              "      <td>2.875792</td>\n",
              "      <td>7.468948</td>\n",
              "    </tr>\n",
              "    <tr>\n",
              "      <th>B</th>\n",
              "      <td>3.985640</td>\n",
              "      <td>6.962141</td>\n",
              "      <td>5.088773</td>\n",
              "      <td>5.169713</td>\n",
              "      <td>4.596606</td>\n",
              "      <td>7.671018</td>\n",
              "      <td>7.062663</td>\n",
              "      <td>5.366841</td>\n",
              "      <td>5.571802</td>\n",
              "      <td>7.954308</td>\n",
              "      <td>5.506527</td>\n",
              "      <td>6.652742</td>\n",
              "      <td>3.117493</td>\n",
              "      <td>7.919060</td>\n",
              "      <td>6.612272</td>\n",
              "      <td>9.100522</td>\n",
              "    </tr>\n",
              "    <tr>\n",
              "      <th>C</th>\n",
              "      <td>4.031250</td>\n",
              "      <td>7.063859</td>\n",
              "      <td>4.701087</td>\n",
              "      <td>5.296196</td>\n",
              "      <td>2.775815</td>\n",
              "      <td>5.437500</td>\n",
              "      <td>7.627717</td>\n",
              "      <td>5.927989</td>\n",
              "      <td>7.177989</td>\n",
              "      <td>8.773098</td>\n",
              "      <td>7.494565</td>\n",
              "      <td>11.947011</td>\n",
              "      <td>1.991848</td>\n",
              "      <td>8.876359</td>\n",
              "      <td>4.080163</td>\n",
              "      <td>8.555707</td>\n",
              "    </tr>\n",
              "    <tr>\n",
              "      <th>D</th>\n",
              "      <td>4.023602</td>\n",
              "      <td>7.244720</td>\n",
              "      <td>5.170186</td>\n",
              "      <td>5.288199</td>\n",
              "      <td>4.026087</td>\n",
              "      <td>7.539130</td>\n",
              "      <td>6.806211</td>\n",
              "      <td>5.921739</td>\n",
              "      <td>6.508075</td>\n",
              "      <td>8.166460</td>\n",
              "      <td>5.111801</td>\n",
              "      <td>5.750311</td>\n",
              "      <td>3.365217</td>\n",
              "      <td>7.813665</td>\n",
              "      <td>3.971429</td>\n",
              "      <td>7.628571</td>\n",
              "    </tr>\n",
              "    <tr>\n",
              "      <th>E</th>\n",
              "      <td>3.727865</td>\n",
              "      <td>6.944010</td>\n",
              "      <td>4.756510</td>\n",
              "      <td>5.201823</td>\n",
              "      <td>3.679688</td>\n",
              "      <td>5.966146</td>\n",
              "      <td>7.352865</td>\n",
              "      <td>4.223958</td>\n",
              "      <td>7.585938</td>\n",
              "      <td>8.507812</td>\n",
              "      <td>6.242188</td>\n",
              "      <td>10.341146</td>\n",
              "      <td>2.127604</td>\n",
              "      <td>8.298177</td>\n",
              "      <td>6.022135</td>\n",
              "      <td>8.506510</td>\n",
              "    </tr>\n",
              "  </tbody>\n",
              "</table>\n",
              "</div>"
            ],
            "text/plain": [
              "            xbox      ybox     width  ...    xedgey     yedge    yedgex\n",
              "letter                                ...                              \n",
              "A       3.337136  6.975919  5.128010  ...  6.321926  2.875792  7.468948\n",
              "B       3.985640  6.962141  5.088773  ...  7.919060  6.612272  9.100522\n",
              "C       4.031250  7.063859  4.701087  ...  8.876359  4.080163  8.555707\n",
              "D       4.023602  7.244720  5.170186  ...  7.813665  3.971429  7.628571\n",
              "E       3.727865  6.944010  4.756510  ...  8.298177  6.022135  8.506510\n",
              "\n",
              "[5 rows x 16 columns]"
            ]
          },
          "metadata": {
            "tags": []
          },
          "execution_count": 10
        }
      ]
    },
    {
      "cell_type": "code",
      "metadata": {
        "id": "GTeeTYxzKyRY",
        "colab_type": "code",
        "colab": {
          "base_uri": "https://localhost:8080/",
          "height": 609
        },
        "outputId": "9983713d-0a0f-43cd-fa3c-a22edc73d62f"
      },
      "source": [
        "\n",
        "plt.figure(figsize=(18, 10))\n",
        "sns.heatmap(letter_means)"
      ],
      "execution_count": 11,
      "outputs": [
        {
          "output_type": "execute_result",
          "data": {
            "text/plain": [
              "<matplotlib.axes._subplots.AxesSubplot at 0x7f8ad53fc2e8>"
            ]
          },
          "metadata": {
            "tags": []
          },
          "execution_count": 11
        },
        {
          "output_type": "display_data",
          "data": {
            "image/png": "[encoded data removed]",
            "text/plain": [
              "<Figure size 1296x720 with 2 Axes>"
            ]
          },
          "metadata": {
            "tags": [],
            "needs_background": "light"
          }
        }
      ]
    },
    {
      "cell_type": "code",
      "metadata": {
        "id": "XROw_LD_KyRc",
        "colab_type": "code",
        "colab": {
          "base_uri": "https://localhost:8080/",
          "height": 302
        },
        "outputId": "097963d3-43e9-4b6e-c299-722803318b9f"
      },
      "source": [
        "# average feature values\n",
        "round(letters.drop('letter', axis=1).mean(), 2)"
      ],
      "execution_count": 12,
      "outputs": [
        {
          "output_type": "execute_result",
          "data": {
            "text/plain": [
              "xbox      4.02\n",
              "ybox      7.04\n",
              "width     5.12\n",
              "height    5.37\n",
              "onpix     3.51\n",
              "xbar      6.90\n",
              "ybar      7.50\n",
              "x2bar     4.63\n",
              "y2bar     5.18\n",
              "xybar     8.28\n",
              "x2ybar    6.45\n",
              "xy2bar    7.93\n",
              "xedge     3.05\n",
              "xedgey    8.34\n",
              "yedge     3.69\n",
              "yedgex    7.80\n",
              "dtype: float64"
            ]
          },
          "metadata": {
            "tags": []
          },
          "execution_count": 12
        }
      ]
    },
    {
      "cell_type": "markdown",
      "metadata": {
        "id": "KpdeSL1GKyRf",
        "colab_type": "text"
      },
      "source": [
        "In this case, the average values do not vary a lot (e.g. having a diff of an order of magnitude). Nevertheless, it is better to rescale them."
      ]
    },
    {
      "cell_type": "code",
      "metadata": {
        "id": "IqHawRl2KyRg",
        "colab_type": "code",
        "colab": {}
      },
      "source": [
        "# splitting into X and y\n",
        "X = letters.drop(\"letter\", axis = 1)\n",
        "y = letters['letter']"
      ],
      "execution_count": 13,
      "outputs": []
    },
    {
      "cell_type": "code",
      "metadata": {
        "id": "KXmXQnRvKyRj",
        "colab_type": "code",
        "colab": {}
      },
      "source": [
        "# scaling the features\n",
        "X_scaled = scale(X)\n",
        "\n",
        "# train test split\n",
        "X_train, X_test, y_train, y_test = train_test_split(X_scaled, y, test_size = 0.3, random_state = 101)"
      ],
      "execution_count": 14,
      "outputs": []
    },
    {
      "cell_type": "markdown",
      "metadata": {
        "id": "bIsRR32xKyRm",
        "colab_type": "text"
      },
      "source": [
        "## Model Building\n",
        "\n",
        "Let's fist build two basic models - linear and non-linear with default hyperparameters, and compare the accuracies."
      ]
    },
    {
      "cell_type": "code",
      "metadata": {
        "id": "zJT3KywMKyRm",
        "colab_type": "code",
        "colab": {}
      },
      "source": [
        "# linear model\n",
        "\n",
        "model_linear = SVC(kernel='linear')\n",
        "model_linear.fit(X_train, y_train)\n",
        "\n",
        "# predict\n",
        "y_pred = model_linear.predict(X_test)\n"
      ],
      "execution_count": 15,
      "outputs": []
    },
    {
      "cell_type": "code",
      "metadata": {
        "id": "Aoso9ucDKyRq",
        "colab_type": "code",
        "colab": {
          "base_uri": "https://localhost:8080/",
          "height": 924
        },
        "outputId": "e423ea76-cce9-44f8-b5a8-a0bbb199709e"
      },
      "source": [
        "# confusion matrix and accuracy\n",
        "\n",
        "# accuracy\n",
        "print(\"accuracy:\", metrics.accuracy_score(y_true=y_test, y_pred=y_pred), \"\\n\")\n",
        "\n",
        "# cm\n",
        "print(metrics.confusion_matrix(y_true=y_test, y_pred=y_pred))"
      ],
      "execution_count": 16,
      "outputs": [
        {
          "output_type": "stream",
          "text": [
            "accuracy: 0.8523333333333334 \n",
            "\n",
            "[[198   0   0   0   0   0   1   1   0   1   1   1   0   0   0   0   0   1\n",
            "    0   1   1   0   0   0   3   0]\n",
            " [  0 188   0   3   0   1   3   3   1   0   1   0   0   2   0   1   1   9\n",
            "    3   0   0   1   0   1   0   0]\n",
            " [  1   0 200   0   7   0  12   1   0   0   5   0   0   0   3   0   0   0\n",
            "    0   0   1   0   0   0   0   0]\n",
            " [  1  15   0 210   0   1   2   2   1   0   1   0   1   5   3   0   0   5\n",
            "    0   1   0   0   0   0   0   0]\n",
            " [  0   1   3   0 204   2   6   1   0   0   1   5   0   0   0   0   2   2\n",
            "    1   2   0   0   0   1   0   3]\n",
            " [  0   0   0   1   1 201   1   2   1   1   0   0   0   2   0   2   0   0\n",
            "    3   7   1   0   1   0   1   0]\n",
            " [  0   1   9   4   2   2 167   1   0   1   4   3   1   0   1   0   9   1\n",
            "    8   0   0   2   3   0   0   0]\n",
            " [  0   7   3  11   0   4   3 141   0   2   4   1   2   0  12   0   4  12\n",
            "    0   0   4   2   0   4   1   0]\n",
            " [  0   0   2   3   0   6   0   0 184   9   0   0   0   0   1   0   0   0\n",
            "    3   0   0   0   0   4   0   3]\n",
            " [  2   0   0   3   0   2   0   2  10 187   0   0   0   1   2   0   0   1\n",
            "    5   0   1   0   0   0   0   4]\n",
            " [  0   1   5   2   0   0   1   3   0   0 198   2   2   0   0   0   0  19\n",
            "    0   0   0   0   0  12   0   0]\n",
            " [  2   1   3   2   5   0   8   1   0   0   1 206   0   0   0   0   5   0\n",
            "    2   1   0   0   0   0   0   0]\n",
            " [  0   3   0   0   0   0   0   3   0   0   0   0 222   1   0   0   0   2\n",
            "    0   0   0   0   3   0   0   0]\n",
            " [  1   0   0   4   0   0   0   6   0   0   0   0   1 235   1   1   0   0\n",
            "    0   0   0   1   1   0   0   0]\n",
            " [  3   0   4   7   0   0   0  21   0   0   0   0   2   0 163   3   2   3\n",
            "    0   0   3   0  10   0   0   0]\n",
            " [  0   2   0   2   0  16   5   1   0   1   3   0   0   0   1 225   0   0\n",
            "    0   0   0   1   0   0   8   0]\n",
            " [  3   1   0   0   4   0   9   0   0   2   0   1   0   0   6   0 198   0\n",
            "    8   0   0   0   1   0   0   2]\n",
            " [ 11  11   0   2   0   1   6   3   0   0  10   0   0   3   4   0   2 188\n",
            "    0   1   0   0   0   1   0   0]\n",
            " [  1  13   0   0   9   5   8   0   7   1   0   2   0   0   0   1   6   1\n",
            "  155   6   0   0   0   3   0  10]\n",
            " [  0   0   0   1   1   4   2   4   1   0   0   0   0   0   0   0   0   1\n",
            "    3 214   0   0   0   1   1   6]\n",
            " [  2   0   1   2   0   0   0   2   0   0   0   0   1   1   3   0   0   0\n",
            "    0   0 211   0   1   0   0   0]\n",
            " [  2   2   0   0   0   0   1   3   0   0   0   0   0   1   0   1   0   3\n",
            "    0   0   0 190   6   0   2   0]\n",
            " [  0   0   0   0   0   0   1   0   0   0   0   0   6   1   2   0   0   0\n",
            "    0   0   0   0 212   0   0   0]\n",
            " [  0   2   0   4   5   0   1   0   2   3   3   3   0   0   1   0   0   1\n",
            "    2   2   1   0   0 212   1   1]\n",
            " [  2   0   0   0   0   2   0   1   0   0   0   0   1   0   0   0   3   0\n",
            "    0   4   1  10   0   2 211   0]\n",
            " [  1   0   0   0   3   0   0   0   0   6   0   0   0   0   0   0   5   0\n",
            "   18   1   0   0   0   1   0 194]]\n"
          ],
          "name": "stdout"
        }
      ]
    },
    {
      "cell_type": "markdown",
      "metadata": {
        "id": "wpa6qIEfKyRu",
        "colab_type": "text"
      },
      "source": [
        "The linear model gives approx. 85% accuracy. Let's look at a sufficiently non-linear model with randomly chosen hyperparameters."
      ]
    },
    {
      "cell_type": "code",
      "metadata": {
        "id": "MLEossQ6KyRv",
        "colab_type": "code",
        "colab": {}
      },
      "source": [
        "# non-linear model\n",
        "# using rbf kernel, C=1, default value of gamma\n",
        "\n",
        "# model\n",
        "non_linear_model = SVC(kernel='rbf')\n",
        "\n",
        "# fit\n",
        "non_linear_model.fit(X_train, y_train)\n",
        "\n",
        "# predict\n",
        "y_pred = non_linear_model.predict(X_test)"
      ],
      "execution_count": 17,
      "outputs": []
    },
    {
      "cell_type": "code",
      "metadata": {
        "id": "ZkuP9LBrKyRz",
        "colab_type": "code",
        "colab": {
          "base_uri": "https://localhost:8080/",
          "height": 924
        },
        "outputId": "9d6d020b-a1c7-4940-e333-7be00c311558"
      },
      "source": [
        "# confusion matrix and accuracy\n",
        "\n",
        "# accuracy\n",
        "print(\"accuracy:\", metrics.accuracy_score(y_true=y_test, y_pred=y_pred), \"\\n\")\n",
        "\n",
        "# cm\n",
        "print(metrics.confusion_matrix(y_true=y_test, y_pred=y_pred))"
      ],
      "execution_count": 18,
      "outputs": [
        {
          "output_type": "stream",
          "text": [
            "accuracy: 0.9383333333333334 \n",
            "\n",
            "[[205   0   0   1   0   0   0   0   0   1   0   0   0   0   0   0   0   0\n",
            "    0   0   0   0   0   0   2   0]\n",
            " [  0 205   0   3   1   0   1   0   0   0   0   0   0   0   0   0   0   6\n",
            "    1   0   0   0   0   1   0   0]\n",
            " [  0   0 213   0   5   0   7   1   0   0   0   0   0   0   4   0   0   0\n",
            "    0   0   0   0   0   0   0   0]\n",
            " [  0   4   0 234   0   0   1   3   0   0   0   0   0   3   1   0   0   2\n",
            "    0   0   0   0   0   0   0   0]\n",
            " [  0   0   0   0 221   1   9   0   0   0   0   0   0   0   0   0   0   1\n",
            "    0   0   0   0   0   0   0   2]\n",
            " [  0   0   0   1   0 215   1   1   1   0   0   0   0   1   0   1   0   0\n",
            "    1   3   0   0   0   0   0   0]\n",
            " [  0   0   3   4   1   1 202   0   0   0   0   1   1   0   2   0   0   1\n",
            "    0   0   0   1   2   0   0   0]\n",
            " [  0   7   0   5   0   0   4 177   0   0   2   0   1   0   3   0   4  13\n",
            "    0   0   1   0   0   0   0   0]\n",
            " [  0   0   1   1   0   3   0   0 194  11   0   0   0   0   0   1   0   0\n",
            "    2   0   0   0   0   2   0   0]\n",
            " [  1   0   0   1   0   0   0   0   6 206   0   0   0   1   2   0   0   0\n",
            "    2   0   0   0   0   1   0   0]\n",
            " [  0   4   0   2   0   0   0   4   0   0 217   0   1   0   0   0   0  14\n",
            "    0   0   0   0   0   3   0   0]\n",
            " [  0   0   1   0   2   0   6   0   0   0   1 222   0   0   0   0   0   3\n",
            "    0   0   0   0   0   2   0   0]\n",
            " [  0   5   0   0   0   0   0   2   0   0   0   0 225   0   0   0   0   0\n",
            "    0   0   0   0   2   0   0   0]\n",
            " [  0   2   0   1   0   0   0   2   0   0   0   0   1 239   3   0   0   2\n",
            "    0   0   0   0   0   0   1   0]\n",
            " [  0   0   0   1   0   0   0   0   0   0   0   0   0   0 209   0   1   1\n",
            "    0   0   1   0   8   0   0   0]\n",
            " [  0   2   0   3   3  11   1   1   0   0   0   0   0   0   1 237   1   0\n",
            "    0   0   0   0   0   0   5   0]\n",
            " [  0   0   0   0   2   0   2   0   0   0   0   0   0   0   6   0 222   0\n",
            "    1   0   0   0   2   0   0   0]\n",
            " [  0  10   0   2   0   0   0   0   0   0   1   0   0   4   0   0   2 224\n",
            "    0   0   0   0   0   0   0   0]\n",
            " [  0   3   0   0   2   3   0   0   0   0   0   0   0   0   0   0   0   0\n",
            "  220   0   0   0   0   0   0   0]\n",
            " [  0   0   0   1   0   2   0   2   0   0   0   0   0   0   0   1   0   1\n",
            "    0 228   0   0   0   3   1   0]\n",
            " [  0   0   0   0   0   0   0   0   0   0   0   0   0   1   1   0   0   0\n",
            "    0   0 222   0   0   0   0   0]\n",
            " [  0   7   0   0   0   0   0   1   0   0   0   0   1   4   0   1   0   0\n",
            "    0   0   0 193   1   0   3   0]\n",
            " [  0   1   0   0   0   0   1   1   0   0   0   0   0   1   0   0   0   0\n",
            "    0   0   1   0 217   0   0   0]\n",
            " [  0   2   0   3   2   0   0   0   1   0   2   0   0   0   0   0   0   1\n",
            "    0   0   0   0   0 233   0   0]\n",
            " [  2   0   0   0   0   0   0   0   0   0   0   0   1   0   0   0   1   0\n",
            "    0   1   2   2   0   0 228   0]\n",
            " [  0   0   0   0   2   0   0   0   0   0   0   0   0   0   0   0   4   0\n",
            "    1   0   0   0   0   0   0 222]]\n"
          ],
          "name": "stdout"
        }
      ]
    },
    {
      "cell_type": "markdown",
      "metadata": {
        "id": "q7Ced14kKyR3",
        "colab_type": "text"
      },
      "source": [
        "The non-linear model gives approx. 93% accuracy. Thus, going forward, let's choose hyperparameters corresponding to non-linear models."
      ]
    },
    {
      "cell_type": "markdown",
      "metadata": {
        "id": "9pJZatfAKyR4",
        "colab_type": "text"
      },
      "source": [
        "## Grid Search: Hyperparameter Tuning\n",
        "\n",
        "Let's now tune the model to find the optimal values of C and gamma corresponding to an RBF kernel. We'll use 5-fold cross validation."
      ]
    },
    {
      "cell_type": "code",
      "metadata": {
        "id": "IVbjCMAcKyR4",
        "colab_type": "code",
        "colab": {
          "base_uri": "https://localhost:8080/",
          "height": 286
        },
        "outputId": "26946e04-a462-4173-bc69-a960a2875974"
      },
      "source": [
        "# creating a KFold object with 5 splits \n",
        "folds = KFold(n_splits = 5, shuffle = True, random_state = 101)\n",
        "\n",
        "# specify range of hyperparameters\n",
        "# Set the parameters by cross-validation\n",
        "hyper_params = [ {'gamma': [1e-2, 1e-3, 1e-4],\n",
        "                     'C': [1, 10, 100, 1000]}]\n",
        "\n",
        "\n",
        "# specify model\n",
        "model = SVC(kernel=\"rbf\")\n",
        "\n",
        "# set up GridSearchCV()\n",
        "model_cv = GridSearchCV(estimator = model, \n",
        "                        param_grid = hyper_params, \n",
        "                        scoring= 'accuracy', \n",
        "                        cv = folds, \n",
        "                        verbose = 1,\n",
        "                        return_train_score=True)      \n",
        "\n",
        "# fit the model\n",
        "model_cv.fit(X_train, y_train)                  \n"
      ],
      "execution_count": 19,
      "outputs": [
        {
          "output_type": "stream",
          "text": [
            "Fitting 5 folds for each of 12 candidates, totalling 60 fits\n"
          ],
          "name": "stdout"
        },
        {
          "output_type": "stream",
          "text": [
            "[Parallel(n_jobs=1)]: Using backend SequentialBackend with 1 concurrent workers.\n",
            "[Parallel(n_jobs=1)]: Done  60 out of  60 | elapsed: 11.5min finished\n"
          ],
          "name": "stderr"
        },
        {
          "output_type": "execute_result",
          "data": {
            "text/plain": [
              "GridSearchCV(cv=KFold(n_splits=5, random_state=101, shuffle=True),\n",
              "             error_score=nan,\n",
              "             estimator=SVC(C=1.0, break_ties=False, cache_size=200,\n",
              "                           class_weight=None, coef0=0.0,\n",
              "                           decision_function_shape='ovr', degree=3,\n",
              "                           gamma='scale', kernel='rbf', max_iter=-1,\n",
              "                           probability=False, random_state=None, shrinking=True,\n",
              "                           tol=0.001, verbose=False),\n",
              "             iid='deprecated', n_jobs=None,\n",
              "             param_grid=[{'C': [1, 10, 100, 1000],\n",
              "                          'gamma': [0.01, 0.001, 0.0001]}],\n",
              "             pre_dispatch='2*n_jobs', refit=True, return_train_score=True,\n",
              "             scoring='accuracy', verbose=1)"
            ]
          },
          "metadata": {
            "tags": []
          },
          "execution_count": 19
        }
      ]
    },
    {
      "cell_type": "code",
      "metadata": {
        "id": "0bhXspITKyR8",
        "colab_type": "code",
        "colab": {
          "base_uri": "https://localhost:8080/",
          "height": 876
        },
        "outputId": "ef18bd4c-12fe-4487-952b-df3daf4f6430"
      },
      "source": [
        "# cv results\n",
        "cv_results = pd.DataFrame(model_cv.cv_results_)\n",
        "cv_results"
      ],
      "execution_count": 20,
      "outputs": [
        {
          "output_type": "execute_result",
          "data": {
            "text/html": [
              "<div>\n",
              "<style scoped>\n",
              "    .dataframe tbody tr th:only-of-type {\n",
              "        vertical-align: middle;\n",
              "    }\n",
              "\n",
              "    .dataframe tbody tr th {\n",
              "        vertical-align: top;\n",
              "    }\n",
              "\n",
              "    .dataframe thead th {\n",
              "        text-align: right;\n",
              "    }\n",
              "</style>\n",
              "<table border=\"1\" class=\"dataframe\">\n",
              "  <thead>\n",
              "    <tr style=\"text-align: right;\">\n",
              "      <th></th>\n",
              "      <th>mean_fit_time</th>\n",
              "      <th>std_fit_time</th>\n",
              "      <th>mean_score_time</th>\n",
              "      <th>std_score_time</th>\n",
              "      <th>param_C</th>\n",
              "      <th>param_gamma</th>\n",
              "      <th>params</th>\n",
              "      <th>split0_test_score</th>\n",
              "      <th>split1_test_score</th>\n",
              "      <th>split2_test_score</th>\n",
              "      <th>split3_test_score</th>\n",
              "      <th>split4_test_score</th>\n",
              "      <th>mean_test_score</th>\n",
              "      <th>std_test_score</th>\n",
              "      <th>rank_test_score</th>\n",
              "      <th>split0_train_score</th>\n",
              "      <th>split1_train_score</th>\n",
              "      <th>split2_train_score</th>\n",
              "      <th>split3_train_score</th>\n",
              "      <th>split4_train_score</th>\n",
              "      <th>mean_train_score</th>\n",
              "      <th>std_train_score</th>\n",
              "    </tr>\n",
              "  </thead>\n",
              "  <tbody>\n",
              "    <tr>\n",
              "      <th>0</th>\n",
              "      <td>2.930586</td>\n",
              "      <td>0.017081</td>\n",
              "      <td>1.757765</td>\n",
              "      <td>0.009508</td>\n",
              "      <td>1</td>\n",
              "      <td>0.01</td>\n",
              "      <td>{'C': 1, 'gamma': 0.01}</td>\n",
              "      <td>0.826429</td>\n",
              "      <td>0.834643</td>\n",
              "      <td>0.828571</td>\n",
              "      <td>0.843929</td>\n",
              "      <td>0.830000</td>\n",
              "      <td>0.832714</td>\n",
              "      <td>0.006221</td>\n",
              "      <td>7</td>\n",
              "      <td>0.843929</td>\n",
              "      <td>0.844196</td>\n",
              "      <td>0.847679</td>\n",
              "      <td>0.843571</td>\n",
              "      <td>0.844018</td>\n",
              "      <td>0.844679</td>\n",
              "      <td>0.001514</td>\n",
              "    </tr>\n",
              "    <tr>\n",
              "      <th>1</th>\n",
              "      <td>6.243587</td>\n",
              "      <td>0.019555</td>\n",
              "      <td>2.206479</td>\n",
              "      <td>0.004697</td>\n",
              "      <td>1</td>\n",
              "      <td>0.001</td>\n",
              "      <td>{'C': 1, 'gamma': 0.001}</td>\n",
              "      <td>0.684643</td>\n",
              "      <td>0.672500</td>\n",
              "      <td>0.682500</td>\n",
              "      <td>0.670000</td>\n",
              "      <td>0.676429</td>\n",
              "      <td>0.677214</td>\n",
              "      <td>0.005622</td>\n",
              "      <td>10</td>\n",
              "      <td>0.682054</td>\n",
              "      <td>0.683125</td>\n",
              "      <td>0.687946</td>\n",
              "      <td>0.679554</td>\n",
              "      <td>0.686429</td>\n",
              "      <td>0.683821</td>\n",
              "      <td>0.003021</td>\n",
              "    </tr>\n",
              "    <tr>\n",
              "      <th>2</th>\n",
              "      <td>11.882069</td>\n",
              "      <td>0.029731</td>\n",
              "      <td>2.306395</td>\n",
              "      <td>0.001501</td>\n",
              "      <td>1</td>\n",
              "      <td>0.0001</td>\n",
              "      <td>{'C': 1, 'gamma': 0.0001}</td>\n",
              "      <td>0.203929</td>\n",
              "      <td>0.207143</td>\n",
              "      <td>0.206429</td>\n",
              "      <td>0.237500</td>\n",
              "      <td>0.232857</td>\n",
              "      <td>0.217571</td>\n",
              "      <td>0.014490</td>\n",
              "      <td>12</td>\n",
              "      <td>0.212679</td>\n",
              "      <td>0.217589</td>\n",
              "      <td>0.228393</td>\n",
              "      <td>0.240625</td>\n",
              "      <td>0.240625</td>\n",
              "      <td>0.227982</td>\n",
              "      <td>0.011507</td>\n",
              "    </tr>\n",
              "    <tr>\n",
              "      <th>3</th>\n",
              "      <td>1.773195</td>\n",
              "      <td>0.007463</td>\n",
              "      <td>1.200860</td>\n",
              "      <td>0.005922</td>\n",
              "      <td>10</td>\n",
              "      <td>0.01</td>\n",
              "      <td>{'C': 10, 'gamma': 0.01}</td>\n",
              "      <td>0.914643</td>\n",
              "      <td>0.908571</td>\n",
              "      <td>0.902500</td>\n",
              "      <td>0.919286</td>\n",
              "      <td>0.911071</td>\n",
              "      <td>0.911214</td>\n",
              "      <td>0.005654</td>\n",
              "      <td>3</td>\n",
              "      <td>0.929643</td>\n",
              "      <td>0.929464</td>\n",
              "      <td>0.930357</td>\n",
              "      <td>0.928929</td>\n",
              "      <td>0.928125</td>\n",
              "      <td>0.929304</td>\n",
              "      <td>0.000746</td>\n",
              "    </tr>\n",
              "    <tr>\n",
              "      <th>4</th>\n",
              "      <td>2.898047</td>\n",
              "      <td>0.017992</td>\n",
              "      <td>1.761704</td>\n",
              "      <td>0.002853</td>\n",
              "      <td>10</td>\n",
              "      <td>0.001</td>\n",
              "      <td>{'C': 10, 'gamma': 0.001}</td>\n",
              "      <td>0.805714</td>\n",
              "      <td>0.809643</td>\n",
              "      <td>0.803571</td>\n",
              "      <td>0.820714</td>\n",
              "      <td>0.805000</td>\n",
              "      <td>0.808929</td>\n",
              "      <td>0.006227</td>\n",
              "      <td>8</td>\n",
              "      <td>0.818125</td>\n",
              "      <td>0.817679</td>\n",
              "      <td>0.819643</td>\n",
              "      <td>0.814375</td>\n",
              "      <td>0.819464</td>\n",
              "      <td>0.817857</td>\n",
              "      <td>0.001897</td>\n",
              "    </tr>\n",
              "    <tr>\n",
              "      <th>5</th>\n",
              "      <td>6.213277</td>\n",
              "      <td>0.031316</td>\n",
              "      <td>2.202046</td>\n",
              "      <td>0.005100</td>\n",
              "      <td>10</td>\n",
              "      <td>0.0001</td>\n",
              "      <td>{'C': 10, 'gamma': 0.0001}</td>\n",
              "      <td>0.684286</td>\n",
              "      <td>0.671071</td>\n",
              "      <td>0.682500</td>\n",
              "      <td>0.670000</td>\n",
              "      <td>0.677143</td>\n",
              "      <td>0.677000</td>\n",
              "      <td>0.005788</td>\n",
              "      <td>11</td>\n",
              "      <td>0.681875</td>\n",
              "      <td>0.683304</td>\n",
              "      <td>0.687500</td>\n",
              "      <td>0.680089</td>\n",
              "      <td>0.685446</td>\n",
              "      <td>0.683643</td>\n",
              "      <td>0.002608</td>\n",
              "    </tr>\n",
              "    <tr>\n",
              "      <th>6</th>\n",
              "      <td>1.924655</td>\n",
              "      <td>0.010242</td>\n",
              "      <td>0.885509</td>\n",
              "      <td>0.011072</td>\n",
              "      <td>100</td>\n",
              "      <td>0.01</td>\n",
              "      <td>{'C': 100, 'gamma': 0.01}</td>\n",
              "      <td>0.948571</td>\n",
              "      <td>0.946786</td>\n",
              "      <td>0.941429</td>\n",
              "      <td>0.952857</td>\n",
              "      <td>0.949286</td>\n",
              "      <td>0.947786</td>\n",
              "      <td>0.003742</td>\n",
              "      <td>2</td>\n",
              "      <td>0.978482</td>\n",
              "      <td>0.977946</td>\n",
              "      <td>0.978393</td>\n",
              "      <td>0.978661</td>\n",
              "      <td>0.978571</td>\n",
              "      <td>0.978411</td>\n",
              "      <td>0.000249</td>\n",
              "    </tr>\n",
              "    <tr>\n",
              "      <th>7</th>\n",
              "      <td>2.001337</td>\n",
              "      <td>0.013037</td>\n",
              "      <td>1.262686</td>\n",
              "      <td>0.008187</td>\n",
              "      <td>100</td>\n",
              "      <td>0.001</td>\n",
              "      <td>{'C': 100, 'gamma': 0.001}</td>\n",
              "      <td>0.861071</td>\n",
              "      <td>0.866071</td>\n",
              "      <td>0.850357</td>\n",
              "      <td>0.875357</td>\n",
              "      <td>0.863929</td>\n",
              "      <td>0.863357</td>\n",
              "      <td>0.008074</td>\n",
              "      <td>5</td>\n",
              "      <td>0.879554</td>\n",
              "      <td>0.877143</td>\n",
              "      <td>0.882143</td>\n",
              "      <td>0.875536</td>\n",
              "      <td>0.879464</td>\n",
              "      <td>0.878768</td>\n",
              "      <td>0.002262</td>\n",
              "    </tr>\n",
              "    <tr>\n",
              "      <th>8</th>\n",
              "      <td>2.917111</td>\n",
              "      <td>0.005440</td>\n",
              "      <td>1.764950</td>\n",
              "      <td>0.006967</td>\n",
              "      <td>100</td>\n",
              "      <td>0.0001</td>\n",
              "      <td>{'C': 100, 'gamma': 0.0001}</td>\n",
              "      <td>0.801071</td>\n",
              "      <td>0.806429</td>\n",
              "      <td>0.803929</td>\n",
              "      <td>0.817143</td>\n",
              "      <td>0.800000</td>\n",
              "      <td>0.805714</td>\n",
              "      <td>0.006140</td>\n",
              "      <td>9</td>\n",
              "      <td>0.813571</td>\n",
              "      <td>0.812679</td>\n",
              "      <td>0.814286</td>\n",
              "      <td>0.810000</td>\n",
              "      <td>0.815357</td>\n",
              "      <td>0.813179</td>\n",
              "      <td>0.001815</td>\n",
              "    </tr>\n",
              "    <tr>\n",
              "      <th>9</th>\n",
              "      <td>2.183945</td>\n",
              "      <td>0.017474</td>\n",
              "      <td>0.812004</td>\n",
              "      <td>0.008002</td>\n",
              "      <td>1000</td>\n",
              "      <td>0.01</td>\n",
              "      <td>{'C': 1000, 'gamma': 0.01}</td>\n",
              "      <td>0.953571</td>\n",
              "      <td>0.949643</td>\n",
              "      <td>0.948571</td>\n",
              "      <td>0.952857</td>\n",
              "      <td>0.953929</td>\n",
              "      <td>0.951714</td>\n",
              "      <td>0.002183</td>\n",
              "      <td>1</td>\n",
              "      <td>0.997054</td>\n",
              "      <td>0.997768</td>\n",
              "      <td>0.997411</td>\n",
              "      <td>0.997321</td>\n",
              "      <td>0.997232</td>\n",
              "      <td>0.997357</td>\n",
              "      <td>0.000237</td>\n",
              "    </tr>\n",
              "    <tr>\n",
              "      <th>10</th>\n",
              "      <td>2.382142</td>\n",
              "      <td>0.023131</td>\n",
              "      <td>0.960131</td>\n",
              "      <td>0.007368</td>\n",
              "      <td>1000</td>\n",
              "      <td>0.001</td>\n",
              "      <td>{'C': 1000, 'gamma': 0.001}</td>\n",
              "      <td>0.897500</td>\n",
              "      <td>0.895714</td>\n",
              "      <td>0.889643</td>\n",
              "      <td>0.908571</td>\n",
              "      <td>0.900357</td>\n",
              "      <td>0.898357</td>\n",
              "      <td>0.006197</td>\n",
              "      <td>4</td>\n",
              "      <td>0.931339</td>\n",
              "      <td>0.927679</td>\n",
              "      <td>0.931607</td>\n",
              "      <td>0.927589</td>\n",
              "      <td>0.931696</td>\n",
              "      <td>0.929982</td>\n",
              "      <td>0.001921</td>\n",
              "    </tr>\n",
              "    <tr>\n",
              "      <th>11</th>\n",
              "      <td>2.153426</td>\n",
              "      <td>0.015347</td>\n",
              "      <td>1.282255</td>\n",
              "      <td>0.008609</td>\n",
              "      <td>1000</td>\n",
              "      <td>0.0001</td>\n",
              "      <td>{'C': 1000, 'gamma': 0.0001}</td>\n",
              "      <td>0.844643</td>\n",
              "      <td>0.848214</td>\n",
              "      <td>0.829286</td>\n",
              "      <td>0.856071</td>\n",
              "      <td>0.843571</td>\n",
              "      <td>0.844357</td>\n",
              "      <td>0.008717</td>\n",
              "      <td>6</td>\n",
              "      <td>0.860982</td>\n",
              "      <td>0.858482</td>\n",
              "      <td>0.864018</td>\n",
              "      <td>0.858304</td>\n",
              "      <td>0.861607</td>\n",
              "      <td>0.860679</td>\n",
              "      <td>0.002125</td>\n",
              "    </tr>\n",
              "  </tbody>\n",
              "</table>\n",
              "</div>"
            ],
            "text/plain": [
              "    mean_fit_time  std_fit_time  ...  mean_train_score  std_train_score\n",
              "0        2.930586      0.017081  ...          0.844679         0.001514\n",
              "1        6.243587      0.019555  ...          0.683821         0.003021\n",
              "2       11.882069      0.029731  ...          0.227982         0.011507\n",
              "3        1.773195      0.007463  ...          0.929304         0.000746\n",
              "4        2.898047      0.017992  ...          0.817857         0.001897\n",
              "5        6.213277      0.031316  ...          0.683643         0.002608\n",
              "6        1.924655      0.010242  ...          0.978411         0.000249\n",
              "7        2.001337      0.013037  ...          0.878768         0.002262\n",
              "8        2.917111      0.005440  ...          0.813179         0.001815\n",
              "9        2.183945      0.017474  ...          0.997357         0.000237\n",
              "10       2.382142      0.023131  ...          0.929982         0.001921\n",
              "11       2.153426      0.015347  ...          0.860679         0.002125\n",
              "\n",
              "[12 rows x 22 columns]"
            ]
          },
          "metadata": {
            "tags": []
          },
          "execution_count": 20
        }
      ]
    },
    {
      "cell_type": "code",
      "metadata": {
        "id": "Bp46vnHxKySB",
        "colab_type": "code",
        "colab": {
          "base_uri": "https://localhost:8080/",
          "height": 408
        },
        "outputId": "7771adca-4d1b-4abe-ff61-6fa1db0019a3"
      },
      "source": [
        "# converting C to numeric type for plotting on x-axis\n",
        "cv_results['param_C'] = cv_results['param_C'].astype('int')\n",
        "\n",
        "# # plotting\n",
        "plt.figure(figsize=(16,6))\n",
        "\n",
        "# subplot 1/3\n",
        "plt.subplot(131)\n",
        "gamma_01 = cv_results[cv_results['param_gamma']==0.01]\n",
        "\n",
        "plt.plot(gamma_01[\"param_C\"], gamma_01[\"mean_test_score\"])\n",
        "plt.plot(gamma_01[\"param_C\"], gamma_01[\"mean_train_score\"])\n",
        "plt.xlabel('C')\n",
        "plt.ylabel('Accuracy')\n",
        "plt.title(\"Gamma=0.01\")\n",
        "plt.ylim([0.60, 1])\n",
        "plt.legend(['test accuracy', 'train accuracy'], loc='upper left')\n",
        "plt.xscale('log')\n",
        "\n",
        "# subplot 2/3\n",
        "plt.subplot(132)\n",
        "gamma_001 = cv_results[cv_results['param_gamma']==0.001]\n",
        "\n",
        "plt.plot(gamma_001[\"param_C\"], gamma_001[\"mean_test_score\"])\n",
        "plt.plot(gamma_001[\"param_C\"], gamma_001[\"mean_train_score\"])\n",
        "plt.xlabel('C')\n",
        "plt.ylabel('Accuracy')\n",
        "plt.title(\"Gamma=0.001\")\n",
        "plt.ylim([0.60, 1])\n",
        "plt.legend(['test accuracy', 'train accuracy'], loc='upper left')\n",
        "plt.xscale('log')\n",
        "\n",
        "\n",
        "# subplot 3/3\n",
        "plt.subplot(133)\n",
        "gamma_0001 = cv_results[cv_results['param_gamma']==0.0001]\n",
        "\n",
        "plt.plot(gamma_0001[\"param_C\"], gamma_0001[\"mean_test_score\"])\n",
        "plt.plot(gamma_0001[\"param_C\"], gamma_0001[\"mean_train_score\"])\n",
        "plt.xlabel('C')\n",
        "plt.ylabel('Accuracy')\n",
        "plt.title(\"Gamma=0.0001\")\n",
        "plt.ylim([0.60, 1])\n",
        "plt.legend(['test accuracy', 'train accuracy'], loc='upper left')\n",
        "plt.xscale('log')\n"
      ],
      "execution_count": 21,
      "outputs": [
        {
          "output_type": "display_data",
          "data": {
            "image/png": "[encoded data removed]",
            "text/plain": [
              "<Figure size 1152x432 with 3 Axes>"
            ]
          },
          "metadata": {
            "tags": [],
            "needs_background": "light"
          }
        }
      ]
    },
    {
      "cell_type": "markdown",
      "metadata": {
        "id": "cjyPvYkUKySF",
        "colab_type": "text"
      },
      "source": [
        "The plots above show some useful insights:\n",
        "- Non-linear models (high gamma) perform *much better* than the linear ones\n",
        "- At any value of gamma, a high value of C leads to better performance\n",
        "- None of the models tend to overfit (even the complex ones), since the training and test accuracies closely follow each other\n",
        "\n",
        "This suggests that the problem and the data is **inherently non-linear** in nature, and a complex model will outperform simple, linear models in this case."
      ]
    },
    {
      "cell_type": "markdown",
      "metadata": {
        "id": "xMlIh3EkKySG",
        "colab_type": "text"
      },
      "source": [
        "Let's now choose the best hyperparameters. "
      ]
    },
    {
      "cell_type": "code",
      "metadata": {
        "id": "cs_r11YsKySG",
        "colab_type": "code",
        "colab": {
          "base_uri": "https://localhost:8080/",
          "height": 34
        },
        "outputId": "e85955e7-02cb-46c4-9801-bbaccc9dace0"
      },
      "source": [
        "# printing the optimal accuracy score and hyperparameters\n",
        "best_score = model_cv.best_score_\n",
        "best_hyperparams = model_cv.best_params_\n",
        "\n",
        "print(\"The best test score is {0} corresponding to hyperparameters {1}\".format(best_score, best_hyperparams))"
      ],
      "execution_count": 22,
      "outputs": [
        {
          "output_type": "stream",
          "text": [
            "The best test score is 0.9517142857142857 corresponding to hyperparameters {'C': 1000, 'gamma': 0.01}\n"
          ],
          "name": "stdout"
        }
      ]
    },
    {
      "cell_type": "markdown",
      "metadata": {
        "id": "pAC__ncYKySK",
        "colab_type": "text"
      },
      "source": [
        "### Building and Evaluating the Final Model\n",
        "\n",
        "Let's now build and evaluate the final model, i.e. the model with highest test accuracy."
      ]
    },
    {
      "cell_type": "code",
      "metadata": {
        "id": "XZ2nbU3xKySK",
        "colab_type": "code",
        "colab": {
          "base_uri": "https://localhost:8080/",
          "height": 941
        },
        "outputId": "c34a9c55-88fd-42b8-9d52-47ffa393cf13"
      },
      "source": [
        "# model with optimal hyperparameters\n",
        "\n",
        "# model\n",
        "model = SVC(C=1000, gamma=0.01, kernel=\"rbf\")\n",
        "\n",
        "model.fit(X_train, y_train)\n",
        "y_pred = model.predict(X_test)\n",
        "\n",
        "# metrics\n",
        "print(\"accuracy\", metrics.accuracy_score(y_test, y_pred), \"\\n\")\n",
        "print(metrics.confusion_matrix(y_test, y_pred), \"\\n\")\n",
        "\n"
      ],
      "execution_count": 24,
      "outputs": [
        {
          "output_type": "stream",
          "text": [
            "accuracy 0.9596666666666667 \n",
            "\n",
            "[[206   0   0   0   0   0   0   0   0   0   0   1   0   0   0   0   0   0\n",
            "    0   0   0   0   0   0   2   0]\n",
            " [  0 211   0   2   1   0   1   0   0   0   0   0   0   0   0   0   0   1\n",
            "    2   0   0   0   0   0   0   0]\n",
            " [  0   0 220   0   3   0   4   1   0   0   0   0   0   0   2   0   0   0\n",
            "    0   0   0   0   0   0   0   0]\n",
            " [  0   3   0 236   0   1   0   1   0   1   0   0   0   2   2   0   0   1\n",
            "    1   0   0   0   0   0   0   0]\n",
            " [  0   0   1   0 225   1   4   0   0   0   0   0   0   0   0   0   0   0\n",
            "    1   0   0   0   0   0   0   2]\n",
            " [  0   0   0   1   0 217   0   0   1   1   0   0   0   1   0   3   0   0\n",
            "    0   0   0   1   0   0   0   0]\n",
            " [  0   0   2   3   1   0 209   0   0   0   0   0   1   0   1   0   0   0\n",
            "    0   0   0   1   1   0   0   0]\n",
            " [  0   1   3   5   0   0   2 195   1   1   2   1   1   0   1   0   3   1\n",
            "    0   0   0   0   0   0   0   0]\n",
            " [  0   0   0   1   0   1   0   0 203   8   0   0   0   0   0   0   1   0\n",
            "    0   0   0   0   0   1   0   0]\n",
            " [  0   0   0   0   0   0   0   0   7 209   0   0   0   1   0   0   0   1\n",
            "    0   0   2   0   0   0   0   0]\n",
            " [  0   1   0   0   2   0   0   5   0   0 228   0   0   0   0   0   0   5\n",
            "    0   0   0   0   0   4   0   0]\n",
            " [  0   0   0   0   0   0   1   1   0   0   0 232   0   0   0   1   0   1\n",
            "    0   1   0   0   0   0   0   0]\n",
            " [  0   0   0   0   0   0   0   0   0   0   0   0 230   2   0   0   0   0\n",
            "    0   0   0   0   2   0   0   0]\n",
            " [  0   3   0   1   0   0   0   0   0   0   0   0   1 244   0   0   0   1\n",
            "    0   0   0   0   1   0   0   0]\n",
            " [  0   0   2   0   0   0   2   0   0   1   0   0   2   0 210   0   1   1\n",
            "    0   0   1   0   1   0   0   0]\n",
            " [  0   0   0   0   1   8   0   1   1   0   0   0   0   0   0 252   1   0\n",
            "    0   0   0   0   0   0   1   0]\n",
            " [  0   0   0   0   3   0   1   0   0   0   0   0   0   0   2   1 226   0\n",
            "    0   0   0   0   0   0   0   2]\n",
            " [  0   8   0   1   0   0   1   3   0   0   3   0   0   3   0   0   0 224\n",
            "    0   0   0   0   0   0   0   0]\n",
            " [  0   1   0   0   1   2   1   0   0   0   0   0   0   0   0   0   0   0\n",
            "  223   0   0   0   0   0   0   0]\n",
            " [  0   0   0   1   0   0   0   1   0   0   0   0   0   0   0   1   0   0\n",
            "    0 235   0   0   0   1   0   0]\n",
            " [  2   0   0   0   0   0   1   2   0   0   0   0   0   2   0   0   0   0\n",
            "    0   0 217   0   0   0   0   0]\n",
            " [  0   4   0   0   0   0   0   0   0   0   0   0   1   0   0   1   0   0\n",
            "    0   0   0 203   1   0   1   0]\n",
            " [  0   0   0   0   0   0   1   0   0   0   0   0   0   0   0   1   0   0\n",
            "    0   0   0   0 220   0   0   0]\n",
            " [  0   1   0   3   2   0   0   0   0   0   3   1   0   0   0   0   0   1\n",
            "    0   0   0   0   0 232   1   0]\n",
            " [  1   0   0   0   0   0   0   0   0   1   0   0   0   0   0   0   0   0\n",
            "    1   0   1   2   1   0 230   0]\n",
            " [  0   0   0   0   2   1   0   0   0   0   0   0   0   0   0   0   3   0\n",
            "    1   1   0   0   0   0   0 221]] \n",
            "\n"
          ],
          "name": "stdout"
        }
      ]
    },
    {
      "cell_type": "markdown",
      "metadata": {
        "id": "yXr3mVxdKySN",
        "colab_type": "text"
      },
      "source": [
        "## Conclusion\n",
        "\n",
        "The accuracy achieved using a non-linear kernel (~0.95) is mush higher than that of a linear one (~0.85). We can conclude that the problem is highly non-linear in nature."
      ]
    }
  ]
}